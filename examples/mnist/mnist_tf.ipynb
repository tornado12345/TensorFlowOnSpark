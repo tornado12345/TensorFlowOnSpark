{
 "cells": [
  {
   "cell_type": "markdown",
   "metadata": {},
   "source": [
    "# TensorFlowOnSpark with InputMode.TENSORFLOW"
   ]
  },
  {
   "cell_type": "markdown",
   "metadata": {},
   "source": [
    "This notebook demonstrates TensorFlowOnSpark using `InputMode.TENSORFLOW`, which launches a distributed TensorFlow cluster on the Spark executors, where each TensorFlow process reads directly from disk."
   ]
  },
  {
   "cell_type": "markdown",
   "metadata": {},
   "source": [
    "### Start a Spark Standalone Cluster\n",
    "\n",
    "First, in a terminal/shell window, start a single-machine Spark Standalone Cluster with three workers:\n",
    "```\n",
    "export MASTER=spark://$(hostname):7077\n",
    "export SPARK_WORKER_INSTANCES=3\n",
    "export CORES_PER_WORKER=1\n",
    "export TOTAL_CORES=$((${CORES_PER_WORKER}*${SPARK_WORKER_INSTANCES})) \n",
    "${SPARK_HOME}/sbin/start-master.sh; ${SPARK_HOME}/sbin/start-slave.sh -c $CORES_PER_WORKER -m 3G ${MASTER}\n",
    "```"
   ]
  },
  {
   "cell_type": "markdown",
   "metadata": {},
   "source": [
    "### Convert the MNIST zip files using Spark\n",
    "\n",
    "This notebook assumes that you have already [downloaded the MNIST dataset](https://github.com/yahoo/TensorFlowOnSpark/wiki/GetStarted_Standalone#download-mnist-data).    If so, you can convert it to TFRecord format as follows:\n",
    "```\n",
    "export TFoS_HOME=</path/to/TensorFlowOnSpark>\n",
    "cd ${TFoS_HOME}\n",
    "# rm -rf examples/mnist/tfr\n",
    "${SPARK_HOME}/bin/spark-submit \\\n",
    "--master ${MASTER} \\\n",
    "${TFoS_HOME}/examples/mnist/mnist_data_setup.py \\\n",
    "--output examples/mnist/tfr \\\n",
    "--format tfr\n",
    "ls -lR examples/mnist/tfr\n",
    "```"
   ]
  },
  {
   "cell_type": "markdown",
   "metadata": {},
   "source": [
    "### Launch the Spark Jupyter Notebook\n",
    "\n",
    "Now, in the same terminal window, launch a Pyspark Jupyter notebook:\n",
    "```\n",
    "# export TFoS_HOME=</path/to/TensorFlowOnSpark>\n",
    "cd ${TFoS_HOME}/examples/mnist\n",
    "PYSPARK_DRIVER_PYTHON=\"jupyter\" \\\n",
    "PYSPARK_DRIVER_PYTHON_OPTS=\"notebook\" \\\n",
    "pyspark  --master ${MASTER} \\\n",
    "--conf spark.cores.max=${TOTAL_CORES} \\\n",
    "--conf spark.task.cpus=${CORES_PER_WORKER} \\\n",
    "--py-files ${TFoS_HOME}/examples/mnist/tf/mnist_dist.py \\\n",
    "--conf spark.executorEnv.JAVA_HOME=\"$JAVA_HOME\"\n",
    "```\n",
    "\n",
    "This should open a Jupyter browser pointing to the directory where this notebook is hosted.\n",
    "Click on this notebook and begin executing the steps of the notebook."
   ]
  },
  {
   "cell_type": "markdown",
   "metadata": {},
   "source": [
    "NOTE: the `SparkContext` should be available as the `sc` variable.  You can use it to navigate to the Spark UI's \"Executors\" tab, where you will find the logs for each Spark executor.  For TensorFlowOnSpark, each executor will correspond to a specific TensorFlow instance in the cluster, and the TensorFlow logs will be reported in each executor's `stderr` logs. "
   ]
  },
  {
   "cell_type": "code",
   "execution_count": null,
   "metadata": {},
   "outputs": [],
   "source": [
    "sc"
   ]
  },
  {
   "cell_type": "code",
   "execution_count": null,
   "metadata": {},
   "outputs": [],
   "source": [
    "from __future__ import absolute_import\n",
    "from __future__ import division\n",
    "from __future__ import print_function\n",
    "\n",
    "import argparse\n",
    "import subprocess\n",
    "from tensorflowonspark import TFCluster\n",
    "\n",
    "# main TensorFlow code for this example\n",
    "import mnist_dist"
   ]
  },
  {
   "cell_type": "code",
   "execution_count": null,
   "metadata": {},
   "outputs": [],
   "source": [
    "parser = argparse.ArgumentParser()\n",
    "parser.add_argument(\"--batch_size\", help=\"number of records per batch\", type=int, default=100)\n",
    "parser.add_argument(\"--epochs\", help=\"number of epochs\", type=int, default=1)\n",
    "parser.add_argument(\"--export\", help=\"HDFS path to export model\", type=str, default=\"mnist_export\")\n",
    "parser.add_argument(\"--format\", help=\"example format: (csv2|tfr)\", choices=[\"csv2\", \"tfr\"], default=\"tfr\")\n",
    "parser.add_argument(\"--images_labels\", help=\"HDFS path to MNIST image_label files in parallelized format\")\n",
    "parser.add_argument(\"--mode\", help=\"train|inference\", default=\"train\")\n",
    "parser.add_argument(\"--model\", help=\"HDFS path to save/load model during train/test\", default=\"mnist_model\")\n",
    "parser.add_argument(\"--output\", help=\"HDFS path to save test/inference output\", default=\"predictions\")\n",
    "parser.add_argument(\"--rdma\", help=\"use rdma connection\", default=False)\n",
    "parser.add_argument(\"--readers\", help=\"number of reader/enqueue threads per worker\", type=int, default=10)\n",
    "parser.add_argument(\"--shuffle_size\", help=\"size of shuffle buffer\", type=int, default=1000)\n",
    "parser.add_argument(\"--steps\", help=\"maximum number of steps\", type=int, default=1000)\n",
    "parser.add_argument(\"--tensorboard\", help=\"launch tensorboard process\", action=\"store_true\")"
   ]
  },
  {
   "cell_type": "code",
   "execution_count": null,
   "metadata": {},
   "outputs": [],
   "source": [
    "num_executors = sc.defaultParallelism\n",
    "num_executors"
   ]
  },
  {
   "cell_type": "markdown",
   "metadata": {},
   "source": [
    "### Run Distributed Training"
   ]
  },
  {
   "cell_type": "code",
   "execution_count": null,
   "metadata": {},
   "outputs": [],
   "source": [
    "# verify training images and labels\n",
    "train_images_files = \"tfr/train\"\n",
    "print(subprocess.check_output([\"ls\", \"-l\", train_images_files]).decode(\"utf-8\"))"
   ]
  },
  {
   "cell_type": "code",
   "execution_count": null,
   "metadata": {},
   "outputs": [],
   "source": [
    "# parse arguments for training\n",
    "args = parser.parse_args(['--mode', 'train', \n",
    "                          '--steps', '600', \n",
    "                          '--epochs', '1',\n",
    "                          '--images_labels', train_images_files])\n",
    "args"
   ]
  },
  {
   "cell_type": "code",
   "execution_count": null,
   "metadata": {},
   "outputs": [],
   "source": [
    "# remove any existing models\n",
    "subprocess.call([\"rm\", \"-rf\", args.model, args.export])"
   ]
  },
  {
   "cell_type": "code",
   "execution_count": null,
   "metadata": {},
   "outputs": [],
   "source": [
    "# start the cluster for training\n",
    "cluster = TFCluster.run(sc, mnist_dist.map_fun, args, num_executors, 1, args.tensorboard, TFCluster.InputMode.TENSORFLOW)\n"
   ]
  },
  {
   "cell_type": "code",
   "execution_count": null,
   "metadata": {
    "scrolled": true
   },
   "outputs": [],
   "source": [
    "# shutdown the cluster.  \n",
    "# NOTE: this will block until all TensorFlow nodes have completed\n",
    "cluster.shutdown()"
   ]
  },
  {
   "cell_type": "code",
   "execution_count": null,
   "metadata": {},
   "outputs": [],
   "source": [
    "print(subprocess.check_output([\"ls\", \"-l\", args.model]).decode(\"utf-8\"))"
   ]
  },
  {
   "cell_type": "code",
   "execution_count": null,
   "metadata": {},
   "outputs": [],
   "source": [
    "print(subprocess.check_output([\"ls\", \"-lR\", args.export]).decode(\"utf-8\"))"
   ]
  },
  {
   "cell_type": "markdown",
   "metadata": {},
   "source": [
    "### Run Distributed Inference"
   ]
  },
  {
   "cell_type": "code",
   "execution_count": null,
   "metadata": {},
   "outputs": [],
   "source": [
    "test_images_files = \"tfr/test\"\n",
    "print(subprocess.check_output([\"ls\", \"-l\", test_images_files]).decode(\"utf-8\"))"
   ]
  },
  {
   "cell_type": "code",
   "execution_count": null,
   "metadata": {},
   "outputs": [],
   "source": [
    "#Parse arguments for inference\n",
    "args = parser.parse_args(['--mode', 'inference',\n",
    "                          '--images_labels', test_images_files])\n",
    "args"
   ]
  },
  {
   "cell_type": "code",
   "execution_count": null,
   "metadata": {},
   "outputs": [],
   "source": [
    "#remove existing output if any\n",
    "subprocess.call([\"rm\", \"-rf\", args.output])"
   ]
  },
  {
   "cell_type": "code",
   "execution_count": null,
   "metadata": {},
   "outputs": [],
   "source": [
    "#Start the cluster for inference\n",
    "cluster = TFCluster.run(sc, mnist_dist.map_fun, args, num_executors, 1, False, TFCluster.InputMode.SPARK)"
   ]
  },
  {
   "cell_type": "code",
   "execution_count": null,
   "metadata": {},
   "outputs": [],
   "source": [
    "cluster.shutdown()"
   ]
  },
  {
   "cell_type": "code",
   "execution_count": null,
   "metadata": {},
   "outputs": [],
   "source": [
    "print(subprocess.check_output([\"ls\", \"-l\", args.output]).decode(\"utf-8\"))"
   ]
  },
  {
   "cell_type": "markdown",
   "metadata": {},
   "source": [
    "### Shutdown\n",
    "\n",
    "In your terminal/shell window, you can type `<ctrl-C>` to exit the Notebook server.\n",
    "\n",
    "Then, stop the Standalone Cluster via:\n",
    "```\n",
    "${SPARK_HOME}/sbin/stop-slave.sh; ${SPARK_HOME}/sbin/stop-master.sh\n",
    "```"
   ]
  }
 ],
 "metadata": {
  "kernelspec": {
   "display_name": "Python 3",
   "language": "python",
   "name": "python3"
  },
  "language_info": {
   "codemirror_mode": {
    "name": "ipython",
    "version": 3
   },
   "file_extension": ".py",
   "mimetype": "text/x-python",
   "name": "python",
   "nbconvert_exporter": "python",
   "pygments_lexer": "ipython3",
   "version": "3.6.0"
  }
 },
 "nbformat": 4,
 "nbformat_minor": 2
}
